{
 "cells": [
  {
   "cell_type": "code",
   "execution_count": 1,
   "metadata": {
    "collapsed": true
   },
   "outputs": [],
   "source": [
    "import pandas as pd\n",
    "from lxml import etree\n",
    "import os\n",
    "import html2text\n",
    "import re\n",
    "import numpy as np"
   ]
  },
  {
   "cell_type": "code",
   "execution_count": 2,
   "metadata": {
    "collapsed": true
   },
   "outputs": [],
   "source": [
    "path = r'C:\\Users\\chenmeng\\Documents\\FDDC_2\\dingzeng_train\\7880.html'\n",
    "f = open(path,'r',encoding='utf-8')\n",
    "text = f.read()\n",
    "f.close()"
   ]
  },
  {
   "cell_type": "code",
   "execution_count": 47,
   "metadata": {},
   "outputs": [
    {
     "data": {
      "text/plain": [
       "[<Element tbody at 0x1f634ef8048>,\n",
       " <Element tbody at 0x1f634f64cc8>,\n",
       " <Element tbody at 0x1f634f64208>,\n",
       " <Element tbody at 0x1f634f644c8>,\n",
       " <Element tbody at 0x1f634f64348>,\n",
       " <Element tbody at 0x1f634f64f48>,\n",
       " <Element tbody at 0x1f634f64388>,\n",
       " <Element tbody at 0x1f634f64288>,\n",
       " <Element tbody at 0x1f634f64c88>,\n",
       " <Element tbody at 0x1f634f64448>,\n",
       " <Element tbody at 0x1f634f64308>,\n",
       " <Element tbody at 0x1f634f642c8>,\n",
       " <Element tbody at 0x1f634f64dc8>,\n",
       " <Element tbody at 0x1f634f64d08>,\n",
       " <Element tbody at 0x1f634f64e48>,\n",
       " <Element tbody at 0x1f634f24488>,\n",
       " <Element tbody at 0x1f634f244c8>,\n",
       " <Element tbody at 0x1f634f24688>,\n",
       " <Element tbody at 0x1f634f24748>,\n",
       " <Element tbody at 0x1f634f24908>,\n",
       " <Element tbody at 0x1f634f24448>,\n",
       " <Element tbody at 0x1f634f249c8>,\n",
       " <Element tbody at 0x1f634f24b08>,\n",
       " <Element tbody at 0x1f634f243c8>,\n",
       " <Element tbody at 0x1f634f245c8>,\n",
       " <Element tbody at 0x1f634f24888>,\n",
       " <Element tbody at 0x1f634f24408>,\n",
       " <Element tbody at 0x1f634f24a08>,\n",
       " <Element tbody at 0x1f634f24948>]"
      ]
     },
     "execution_count": 47,
     "metadata": {},
     "output_type": "execute_result"
    }
   ],
   "source": [
    "html = etree.HTML(text)\n",
    "html.xpath('//tbody')\n"
   ]
  },
  {
   "cell_type": "code",
   "execution_count": 40,
   "metadata": {},
   "outputs": [
    {
     "data": {
      "text/plain": [
       "[<Element td at 0x1f634f1c4c8>,\n",
       " <Element td at 0x1f634f1c3c8>,\n",
       " <Element td at 0x1f634f1c588>,\n",
       " <Element td at 0x1f634f1c5c8>]"
      ]
     },
     "execution_count": 40,
     "metadata": {},
     "output_type": "execute_result"
    }
   ],
   "source": [
    "tbody = html.xpath('//tbody')[3]\n",
    "r = tbody.xpath('tr')\n",
    "r[0].xpath('td')"
   ]
  },
  {
   "cell_type": "code",
   "execution_count": 38,
   "metadata": {
    "collapsed": true
   },
   "outputs": [],
   "source": [
    "class TableParser:\n",
    "    def __init__(self):\n",
    "        self.rows = 0\n",
    "        self.columns = 0\n",
    "        self.tablehead = ''\n",
    "        self.table = []\n",
    "        self.tabletype = 0\n",
    "        \n",
    "    def parse(self,tbody):\n",
    "        r = tbody.xpath('tr')\n",
    "        self.rows = len(r)\n",
    "        c = [len(r[i].xpath('td')) for i in range(self.rows)]\n",
    "        self.columns = max(c)\n",
    "        table = np.empty((self.rows,self.columns),dtype='<U100')\n",
    "        \n",
    "        for i in range(self.rows):\n",
    "            c = r[i].xpath('td')\n",
    "            for j in range(len(c)):\n",
    "                rowspan = c[j].xpath('@rowspan')\n",
    "                colspan = c[j].xpath('@colspan')\n",
    "                text = ''.join(c[j].xpath('text()'))\n",
    "                t = self.clean(text)\n",
    "                \n",
    "                if (not rowspan and not colspan):\n",
    "                    for k in range(self.columns):\n",
    "                        if not table[i][k]:\n",
    "                            table[i][k] = t\n",
    "                            break\n",
    "                if rowspan:\n",
    "                    span = int(rowspan[0])\n",
    "                    for k in range(self.columns):\n",
    "                        if not table[i][k]:\n",
    "                            for m in range(span):\n",
    "                                table[i+m][k] = t\n",
    "                            break\n",
    "                if colspan:\n",
    "                    span = int(colspan[0])\n",
    "                    count = 0\n",
    "                    for k in range(self.columns):\n",
    "                        if not table[i][k]:\n",
    "                            table[i][k] = t\n",
    "                            count += 1\n",
    "                            if count == span:\n",
    "                                break\n",
    "        self.table = table\n",
    "    \n",
    "    def get_tablehead(self,tbody):\n",
    "        s = tbody.xpath('tr[1]/td//text()')\n",
    "        s = ''.join(s)\n",
    "        s = self.clean(s)\n",
    "        self.tablehead = s\n",
    "        return s\n",
    "    \n",
    "    def clean(self,s):\n",
    "        s = s.replace('\\n','')\n",
    "        s = s.replace(' ','')\n",
    "        return s"
   ]
  },
  {
   "cell_type": "code",
   "execution_count": 39,
   "metadata": {
    "collapsed": true
   },
   "outputs": [],
   "source": [
    "tableparser = TableParser()"
   ]
  },
  {
   "cell_type": "code",
   "execution_count": 41,
   "metadata": {},
   "outputs": [],
   "source": [
    "tableparser.parse(tbody)"
   ]
  },
  {
   "cell_type": "code",
   "execution_count": 48,
   "metadata": {},
   "outputs": [
    {
     "data": {
      "text/plain": [
       "array([['序号', '认购对象', '配售股数（股）', '配售金额（元）'],\n",
       "       ['1', '广州海印实业集团有限公司', '29,160,239', '243,487,995.65'],\n",
       "       ['2', '太平洋资产管理有限责任公司', '6,000,000', '50,100,000.00'],\n",
       "       ['3', '民生加银基金管理有限公司', '11,520,000', '96,192,000.00'],\n",
       "       ['4', '东海证券股份有限公司', '12,000,000', '100,200,000.00'],\n",
       "       ['5', '融通基金管理有限公司', '7,000,000', '58,450,000.00'],\n",
       "       ['6', '平安大华基金管理有限公司', '28,200,000', '235,470,000.00'],\n",
       "       ['7', '深圳市吉富启瑞投资合伙企业（有限合伙）', '6,000,000', '50,100,000.00'],\n",
       "       ['合计', '99,880,239', '833,999,995.65', '']],\n",
       "      dtype='<U100')"
      ]
     },
     "execution_count": 48,
     "metadata": {},
     "output_type": "execute_result"
    }
   ],
   "source": [
    "tableparser.table"
   ]
  },
  {
   "cell_type": "code",
   "execution_count": 132,
   "metadata": {
    "collapsed": true
   },
   "outputs": [],
   "source": [
    "r = tbody.xpath('tr')\n",
    "c = [len(r[i].xpath('td')) for i in range(4)]"
   ]
  },
  {
   "cell_type": "code",
   "execution_count": 133,
   "metadata": {},
   "outputs": [
    {
     "data": {
      "text/plain": [
       "[6, 6, 4, 5]"
      ]
     },
     "execution_count": 133,
     "metadata": {},
     "output_type": "execute_result"
    }
   ],
   "source": [
    "c"
   ]
  },
  {
   "cell_type": "code",
   "execution_count": 129,
   "metadata": {},
   "outputs": [
    {
     "data": {
      "text/plain": [
       "[0, 0, 0, 0]"
      ]
     },
     "execution_count": 129,
     "metadata": {},
     "output_type": "execute_result"
    }
   ],
   "source": [
    "c"
   ]
  },
  {
   "cell_type": "code",
   "execution_count": 182,
   "metadata": {},
   "outputs": [
    {
     "data": {
      "text/plain": [
       "['\\n      股东\\n        名称\\n     ']"
      ]
     },
     "execution_count": 182,
     "metadata": {},
     "output_type": "execute_result"
    }
   ],
   "source": [
    "c[0].xpath('text()')"
   ]
  },
  {
   "cell_type": "code",
   "execution_count": 222,
   "metadata": {
    "collapsed": true
   },
   "outputs": [],
   "source": [
    "table = np.empty((4,6),dtype='<U100')"
   ]
  },
  {
   "cell_type": "code",
   "execution_count": 223,
   "metadata": {
    "collapsed": true
   },
   "outputs": [],
   "source": [
    "for i in range(4):\n",
    "    c = r[i].xpath('td')\n",
    "    for j in range(len(c)):\n",
    "        rowspan = c[j].xpath('@rowspan')\n",
    "        colspan = c[j].xpath('@colspan')\n",
    "        text = ''.join(c[j].xpath('text()'))\n",
    "        t = text.replace('\\n','').replace(' ','')\n",
    "        if (not rowspan and not colspan):\n",
    "            for k in range(6):\n",
    "                if not table[i][k]:\n",
    "                    table[i][k] = t\n",
    "                    break\n",
    "        \n",
    "        if rowspan:\n",
    "            span = int(rowspan[0])\n",
    "            for k in range(6):\n",
    "                if not table[i][k]:\n",
    "                    for m in range(span):\n",
    "                        table[i+m][k] = t\n",
    "                    break\n",
    "        if colspan:\n",
    "            span = int(colspan[0])\n",
    "            count = 0\n",
    "            for k in range(6):\n",
    "                if not table[i][k]:\n",
    "                    table[i][k] = t\n",
    "                    count += 1\n",
    "                    if count == span:\n",
    "                        break\n",
    "        "
   ]
  },
  {
   "cell_type": "code",
   "execution_count": 224,
   "metadata": {},
   "outputs": [
    {
     "data": {
      "text/plain": [
       "array([['股东名称', '减持方式', '减持期间', '减持均价（元）', '减持股数（股）', '减持比例（%）'],\n",
       "       ['宁波睿勇投资有限公司', '大宗交易', '2014年5月27日', '9.32', '1,950,000', '1.46'],\n",
       "       ['宁波睿勇投资有限公司', '大宗交易', '2014年5月28日', '9.30', '1,940,000', '1.44'],\n",
       "       ['宁波睿勇投资有限公司', '合计', '-', '-', '3,890,000', '2.90']],\n",
       "      dtype='<U100')"
      ]
     },
     "execution_count": 224,
     "metadata": {},
     "output_type": "execute_result"
    }
   ],
   "source": [
    "table"
   ]
  },
  {
   "cell_type": "code",
   "execution_count": 203,
   "metadata": {},
   "outputs": [
    {
     "data": {
      "text/plain": [
       "{'?': numpy.bool_,\n",
       " 0: numpy.bool_,\n",
       " 'byte': numpy.int8,\n",
       " 'b': numpy.int8,\n",
       " 1: numpy.int8,\n",
       " 'ubyte': numpy.uint8,\n",
       " 'B': numpy.uint8,\n",
       " 2: numpy.uint8,\n",
       " 'short': numpy.int16,\n",
       " 'h': numpy.int16,\n",
       " 3: numpy.int16,\n",
       " 'ushort': numpy.uint16,\n",
       " 'H': numpy.uint16,\n",
       " 4: numpy.uint16,\n",
       " 'i': numpy.int32,\n",
       " 5: numpy.int32,\n",
       " 'uint': numpy.uint32,\n",
       " 'I': numpy.uint32,\n",
       " 6: numpy.uint32,\n",
       " 'intp': numpy.int64,\n",
       " 'p': numpy.int64,\n",
       " 9: numpy.int64,\n",
       " 'uintp': numpy.uint64,\n",
       " 'P': numpy.uint64,\n",
       " 10: numpy.uint64,\n",
       " 'long': numpy.int32,\n",
       " 'l': numpy.int32,\n",
       " 7: numpy.int32,\n",
       " 'L': numpy.uint32,\n",
       " 8: numpy.uint32,\n",
       " 'longlong': numpy.int64,\n",
       " 'q': numpy.int64,\n",
       " 'ulonglong': numpy.uint64,\n",
       " 'Q': numpy.uint64,\n",
       " 'half': numpy.float16,\n",
       " 'e': numpy.float16,\n",
       " 23: numpy.float16,\n",
       " 'f': numpy.float32,\n",
       " 11: numpy.float32,\n",
       " 'double': numpy.float64,\n",
       " 'd': numpy.float64,\n",
       " 12: numpy.float64,\n",
       " 'longdouble': numpy.float64,\n",
       " 'g': numpy.float64,\n",
       " 13: numpy.float64,\n",
       " 'cfloat': numpy.complex128,\n",
       " 'F': numpy.complex64,\n",
       " 14: numpy.complex64,\n",
       " 'cdouble': numpy.complex128,\n",
       " 'D': numpy.complex128,\n",
       " 15: numpy.complex128,\n",
       " 'clongdouble': numpy.complex128,\n",
       " 'G': numpy.complex128,\n",
       " 16: numpy.complex128,\n",
       " 'O': numpy.object_,\n",
       " 17: numpy.object_,\n",
       " 'S': numpy.bytes_,\n",
       " 18: numpy.bytes_,\n",
       " 'unicode': numpy.str_,\n",
       " 'U': numpy.str_,\n",
       " 19: numpy.str_,\n",
       " 'void': numpy.void,\n",
       " 'V': numpy.void,\n",
       " 20: numpy.void,\n",
       " 'M': numpy.datetime64,\n",
       " 21: numpy.datetime64,\n",
       " 'm': numpy.timedelta64,\n",
       " 22: numpy.timedelta64,\n",
       " 'bool8': numpy.bool_,\n",
       " 'Bool': numpy.bool_,\n",
       " 'b1': numpy.bool_,\n",
       " 'float16': numpy.float16,\n",
       " 'Float16': numpy.float16,\n",
       " 'f2': numpy.float16,\n",
       " 'float32': numpy.float32,\n",
       " 'Float32': numpy.float32,\n",
       " 'f4': numpy.float32,\n",
       " 'float64': numpy.float64,\n",
       " 'Float64': numpy.float64,\n",
       " 'f8': numpy.float64,\n",
       " 'complex64': numpy.complex64,\n",
       " 'Complex32': numpy.complex64,\n",
       " 'c8': numpy.complex64,\n",
       " 'complex128': numpy.complex128,\n",
       " 'Complex64': numpy.complex128,\n",
       " 'c16': numpy.complex128,\n",
       " 'object0': numpy.object_,\n",
       " 'Object0': numpy.object_,\n",
       " 'bytes0': numpy.bytes_,\n",
       " 'Bytes0': numpy.bytes_,\n",
       " 'str0': numpy.str_,\n",
       " 'Str0': numpy.str_,\n",
       " 'void0': numpy.void,\n",
       " 'Void0': numpy.void,\n",
       " 'datetime64': numpy.datetime64,\n",
       " 'Datetime64': numpy.datetime64,\n",
       " 'M8': numpy.datetime64,\n",
       " 'timedelta64': numpy.timedelta64,\n",
       " 'Timedelta64': numpy.timedelta64,\n",
       " 'm8': numpy.timedelta64,\n",
       " 'int32': numpy.int32,\n",
       " 'uint32': numpy.uint32,\n",
       " 'Int32': numpy.int32,\n",
       " 'UInt32': numpy.uint32,\n",
       " 'i4': numpy.int32,\n",
       " 'u4': numpy.uint32,\n",
       " 'int64': numpy.int64,\n",
       " 'uint64': numpy.uint64,\n",
       " 'Int64': numpy.int64,\n",
       " 'UInt64': numpy.uint64,\n",
       " 'i8': numpy.int64,\n",
       " 'u8': numpy.uint64,\n",
       " 'int16': numpy.int16,\n",
       " 'uint16': numpy.uint16,\n",
       " 'Int16': numpy.int16,\n",
       " 'UInt16': numpy.uint16,\n",
       " 'i2': numpy.int16,\n",
       " 'u2': numpy.uint16,\n",
       " 'int8': numpy.int8,\n",
       " 'uint8': numpy.uint8,\n",
       " 'Int8': numpy.int8,\n",
       " 'UInt8': numpy.uint8,\n",
       " 'i1': numpy.int8,\n",
       " 'u1': numpy.uint8,\n",
       " 'complex_': numpy.complex128,\n",
       " 'int0': numpy.int64,\n",
       " 'uint0': numpy.uint64,\n",
       " 'single': numpy.float32,\n",
       " 'csingle': numpy.complex64,\n",
       " 'singlecomplex': numpy.complex64,\n",
       " 'float_': numpy.float64,\n",
       " 'intc': numpy.int32,\n",
       " 'uintc': numpy.uint32,\n",
       " 'int_': numpy.int32,\n",
       " 'longfloat': numpy.float64,\n",
       " 'clongfloat': numpy.complex128,\n",
       " 'longcomplex': numpy.complex128,\n",
       " 'bool_': numpy.bool_,\n",
       " 'unicode_': numpy.str_,\n",
       " 'object_': numpy.object_,\n",
       " 'bytes_': numpy.bytes_,\n",
       " 'str_': numpy.str_,\n",
       " 'string_': numpy.bytes_,\n",
       " 'int': numpy.int32,\n",
       " 'float': numpy.float64,\n",
       " 'complex': numpy.complex128,\n",
       " 'bool': numpy.bool_,\n",
       " 'object': numpy.object_,\n",
       " 'str': numpy.str_,\n",
       " 'bytes': numpy.bytes_,\n",
       " 'a': numpy.bytes_}"
      ]
     },
     "execution_count": 203,
     "metadata": {},
     "output_type": "execute_result"
    }
   ],
   "source": [
    "np.typeDict"
   ]
  },
  {
   "cell_type": "code",
   "execution_count": 231,
   "metadata": {},
   "outputs": [
    {
     "data": {
      "text/plain": [
       "[['', '', '', '', '', ''],\n",
       " ['', '', '', '', '', ''],\n",
       " ['', '', '', '', '', ''],\n",
       " ['', '', '', '', '', '']]"
      ]
     },
     "execution_count": 231,
     "metadata": {},
     "output_type": "execute_result"
    }
   ],
   "source": [
    "table = [['']*6]*4\n",
    "table"
   ]
  },
  {
   "cell_type": "code",
   "execution_count": 233,
   "metadata": {},
   "outputs": [
    {
     "data": {
      "text/plain": [
       "[[1, '', '', '', '', ''],\n",
       " [1, '', '', '', '', ''],\n",
       " [1, '', '', '', '', ''],\n",
       " [1, '', '', '', '', '']]"
      ]
     },
     "execution_count": 233,
     "metadata": {},
     "output_type": "execute_result"
    }
   ],
   "source": [
    "table[0][0] = 1\n",
    "table"
   ]
  },
  {
   "cell_type": "code",
   "execution_count": null,
   "metadata": {
    "collapsed": true
   },
   "outputs": [],
   "source": []
  }
 ],
 "metadata": {
  "kernelspec": {
   "display_name": "Python 3",
   "language": "python",
   "name": "python3"
  },
  "language_info": {
   "codemirror_mode": {
    "name": "ipython",
    "version": 3
   },
   "file_extension": ".py",
   "mimetype": "text/x-python",
   "name": "python",
   "nbconvert_exporter": "python",
   "pygments_lexer": "ipython3",
   "version": "3.6.3"
  }
 },
 "nbformat": 4,
 "nbformat_minor": 2
}
